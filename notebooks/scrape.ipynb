{
 "cells": [
  {
   "cell_type": "code",
   "execution_count": 5,
   "metadata": {},
   "outputs": [],
   "source": [
    "import pandas as pd\n",
    "import requests"
   ]
  },
  {
   "cell_type": "code",
   "execution_count": 6,
   "metadata": {},
   "outputs": [],
   "source": [
    "response=requests.get(\"https://api.census.gov/data/2020/dec/responserate?get=DRRALL,CRRINT,RESP_DATE,CRRALL,GEO_ID,DRRINT&for=county:*\")"
   ]
  },
  {
   "cell_type": "code",
   "execution_count": 7,
   "metadata": {},
   "outputs": [
    {
     "data": {
      "text/plain": [
       "'['"
      ]
     },
     "execution_count": 7,
     "metadata": {},
     "output_type": "execute_result"
    }
   ],
   "source": [
    "response.text[0]"
   ]
  },
  {
   "cell_type": "code",
   "execution_count": 8,
   "metadata": {},
   "outputs": [],
   "source": [
    "census=pd.DataFrame(response.json()[1:],columns=response.json()[0])"
   ]
  },
  {
   "cell_type": "code",
   "execution_count": 9,
   "metadata": {},
   "outputs": [
    {
     "data": {
      "text/html": [
       "<div>\n",
       "<style scoped>\n",
       "    .dataframe tbody tr th:only-of-type {\n",
       "        vertical-align: middle;\n",
       "    }\n",
       "\n",
       "    .dataframe tbody tr th {\n",
       "        vertical-align: top;\n",
       "    }\n",
       "\n",
       "    .dataframe thead th {\n",
       "        text-align: right;\n",
       "    }\n",
       "</style>\n",
       "<table border=\"1\" class=\"dataframe\">\n",
       "  <thead>\n",
       "    <tr style=\"text-align: right;\">\n",
       "      <th></th>\n",
       "      <th>DRRALL</th>\n",
       "      <th>CRRINT</th>\n",
       "      <th>RESP_DATE</th>\n",
       "      <th>CRRALL</th>\n",
       "      <th>GEO_ID</th>\n",
       "      <th>DRRINT</th>\n",
       "      <th>state</th>\n",
       "      <th>county</th>\n",
       "    </tr>\n",
       "  </thead>\n",
       "  <tbody>\n",
       "    <tr>\n",
       "      <th>0</th>\n",
       "      <td>0.3</td>\n",
       "      <td>24.3</td>\n",
       "      <td>2020-05-15</td>\n",
       "      <td>65.7</td>\n",
       "      <td>0500000US21137</td>\n",
       "      <td>0.1</td>\n",
       "      <td>21</td>\n",
       "      <td>137</td>\n",
       "    </tr>\n",
       "    <tr>\n",
       "      <th>1</th>\n",
       "      <td>0.2</td>\n",
       "      <td>29.8</td>\n",
       "      <td>2020-05-15</td>\n",
       "      <td>58</td>\n",
       "      <td>0500000US21139</td>\n",
       "      <td>0</td>\n",
       "      <td>21</td>\n",
       "      <td>139</td>\n",
       "    </tr>\n",
       "    <tr>\n",
       "      <th>2</th>\n",
       "      <td>0.1</td>\n",
       "      <td>21.7</td>\n",
       "      <td>2020-05-15</td>\n",
       "      <td>52.9</td>\n",
       "      <td>0500000US21143</td>\n",
       "      <td>0</td>\n",
       "      <td>21</td>\n",
       "      <td>143</td>\n",
       "    </tr>\n",
       "    <tr>\n",
       "      <th>3</th>\n",
       "      <td>0.2</td>\n",
       "      <td>53.5</td>\n",
       "      <td>2020-05-15</td>\n",
       "      <td>67.1</td>\n",
       "      <td>0500000US21145</td>\n",
       "      <td>0.1</td>\n",
       "      <td>21</td>\n",
       "      <td>145</td>\n",
       "    </tr>\n",
       "    <tr>\n",
       "      <th>4</th>\n",
       "      <td>0.3</td>\n",
       "      <td>22.9</td>\n",
       "      <td>2020-05-15</td>\n",
       "      <td>59</td>\n",
       "      <td>0500000US21149</td>\n",
       "      <td>0.1</td>\n",
       "      <td>21</td>\n",
       "      <td>149</td>\n",
       "    </tr>\n",
       "    <tr>\n",
       "      <th>...</th>\n",
       "      <td>...</td>\n",
       "      <td>...</td>\n",
       "      <td>...</td>\n",
       "      <td>...</td>\n",
       "      <td>...</td>\n",
       "      <td>...</td>\n",
       "      <td>...</td>\n",
       "      <td>...</td>\n",
       "    </tr>\n",
       "    <tr>\n",
       "      <th>3211</th>\n",
       "      <td>0.2</td>\n",
       "      <td>63.3</td>\n",
       "      <td>2020-05-15</td>\n",
       "      <td>71.5</td>\n",
       "      <td>0500000US24025</td>\n",
       "      <td>0.1</td>\n",
       "      <td>24</td>\n",
       "      <td>025</td>\n",
       "    </tr>\n",
       "    <tr>\n",
       "      <th>3212</th>\n",
       "      <td>0.1</td>\n",
       "      <td>69.1</td>\n",
       "      <td>2020-05-15</td>\n",
       "      <td>73.1</td>\n",
       "      <td>0500000US24027</td>\n",
       "      <td>0.1</td>\n",
       "      <td>24</td>\n",
       "      <td>027</td>\n",
       "    </tr>\n",
       "    <tr>\n",
       "      <th>3213</th>\n",
       "      <td>0.2</td>\n",
       "      <td>42</td>\n",
       "      <td>2020-05-15</td>\n",
       "      <td>54.7</td>\n",
       "      <td>0500000US24029</td>\n",
       "      <td>0</td>\n",
       "      <td>24</td>\n",
       "      <td>029</td>\n",
       "    </tr>\n",
       "    <tr>\n",
       "      <th>3214</th>\n",
       "      <td>0.1</td>\n",
       "      <td>63.7</td>\n",
       "      <td>2020-05-15</td>\n",
       "      <td>68.9</td>\n",
       "      <td>0500000US24031</td>\n",
       "      <td>0.1</td>\n",
       "      <td>24</td>\n",
       "      <td>031</td>\n",
       "    </tr>\n",
       "    <tr>\n",
       "      <th>3215</th>\n",
       "      <td>0.2</td>\n",
       "      <td>53.7</td>\n",
       "      <td>2020-05-15</td>\n",
       "      <td>60.4</td>\n",
       "      <td>0500000US24033</td>\n",
       "      <td>0.1</td>\n",
       "      <td>24</td>\n",
       "      <td>033</td>\n",
       "    </tr>\n",
       "  </tbody>\n",
       "</table>\n",
       "<p>3216 rows × 8 columns</p>\n",
       "</div>"
      ],
      "text/plain": [
       "     DRRALL CRRINT   RESP_DATE CRRALL          GEO_ID DRRINT state county\n",
       "0       0.3   24.3  2020-05-15   65.7  0500000US21137    0.1    21    137\n",
       "1       0.2   29.8  2020-05-15     58  0500000US21139      0    21    139\n",
       "2       0.1   21.7  2020-05-15   52.9  0500000US21143      0    21    143\n",
       "3       0.2   53.5  2020-05-15   67.1  0500000US21145    0.1    21    145\n",
       "4       0.3   22.9  2020-05-15     59  0500000US21149    0.1    21    149\n",
       "...     ...    ...         ...    ...             ...    ...   ...    ...\n",
       "3211    0.2   63.3  2020-05-15   71.5  0500000US24025    0.1    24    025\n",
       "3212    0.1   69.1  2020-05-15   73.1  0500000US24027    0.1    24    027\n",
       "3213    0.2     42  2020-05-15   54.7  0500000US24029      0    24    029\n",
       "3214    0.1   63.7  2020-05-15   68.9  0500000US24031    0.1    24    031\n",
       "3215    0.2   53.7  2020-05-15   60.4  0500000US24033    0.1    24    033\n",
       "\n",
       "[3216 rows x 8 columns]"
      ]
     },
     "execution_count": 9,
     "metadata": {},
     "output_type": "execute_result"
    }
   ],
   "source": [
    "census"
   ]
  },
  {
   "cell_type": "code",
   "execution_count": 10,
   "metadata": {},
   "outputs": [],
   "source": [
    "census[\"fips\"]=census[\"GEO_ID\"].str[-5:]"
   ]
  },
  {
   "cell_type": "code",
   "execution_count": 11,
   "metadata": {},
   "outputs": [
    {
     "data": {
      "text/html": [
       "<div>\n",
       "<style scoped>\n",
       "    .dataframe tbody tr th:only-of-type {\n",
       "        vertical-align: middle;\n",
       "    }\n",
       "\n",
       "    .dataframe tbody tr th {\n",
       "        vertical-align: top;\n",
       "    }\n",
       "\n",
       "    .dataframe thead th {\n",
       "        text-align: right;\n",
       "    }\n",
       "</style>\n",
       "<table border=\"1\" class=\"dataframe\">\n",
       "  <thead>\n",
       "    <tr style=\"text-align: right;\">\n",
       "      <th></th>\n",
       "      <th>DRRALL</th>\n",
       "      <th>CRRINT</th>\n",
       "      <th>RESP_DATE</th>\n",
       "      <th>CRRALL</th>\n",
       "      <th>GEO_ID</th>\n",
       "      <th>DRRINT</th>\n",
       "      <th>state</th>\n",
       "      <th>county</th>\n",
       "      <th>fips</th>\n",
       "    </tr>\n",
       "  </thead>\n",
       "  <tbody>\n",
       "    <tr>\n",
       "      <th>0</th>\n",
       "      <td>0.3</td>\n",
       "      <td>24.3</td>\n",
       "      <td>2020-05-15</td>\n",
       "      <td>65.7</td>\n",
       "      <td>0500000US21137</td>\n",
       "      <td>0.1</td>\n",
       "      <td>21</td>\n",
       "      <td>137</td>\n",
       "      <td>21137</td>\n",
       "    </tr>\n",
       "    <tr>\n",
       "      <th>1</th>\n",
       "      <td>0.2</td>\n",
       "      <td>29.8</td>\n",
       "      <td>2020-05-15</td>\n",
       "      <td>58</td>\n",
       "      <td>0500000US21139</td>\n",
       "      <td>0</td>\n",
       "      <td>21</td>\n",
       "      <td>139</td>\n",
       "      <td>21139</td>\n",
       "    </tr>\n",
       "    <tr>\n",
       "      <th>2</th>\n",
       "      <td>0.1</td>\n",
       "      <td>21.7</td>\n",
       "      <td>2020-05-15</td>\n",
       "      <td>52.9</td>\n",
       "      <td>0500000US21143</td>\n",
       "      <td>0</td>\n",
       "      <td>21</td>\n",
       "      <td>143</td>\n",
       "      <td>21143</td>\n",
       "    </tr>\n",
       "    <tr>\n",
       "      <th>3</th>\n",
       "      <td>0.2</td>\n",
       "      <td>53.5</td>\n",
       "      <td>2020-05-15</td>\n",
       "      <td>67.1</td>\n",
       "      <td>0500000US21145</td>\n",
       "      <td>0.1</td>\n",
       "      <td>21</td>\n",
       "      <td>145</td>\n",
       "      <td>21145</td>\n",
       "    </tr>\n",
       "    <tr>\n",
       "      <th>4</th>\n",
       "      <td>0.3</td>\n",
       "      <td>22.9</td>\n",
       "      <td>2020-05-15</td>\n",
       "      <td>59</td>\n",
       "      <td>0500000US21149</td>\n",
       "      <td>0.1</td>\n",
       "      <td>21</td>\n",
       "      <td>149</td>\n",
       "      <td>21149</td>\n",
       "    </tr>\n",
       "  </tbody>\n",
       "</table>\n",
       "</div>"
      ],
      "text/plain": [
       "  DRRALL CRRINT   RESP_DATE CRRALL          GEO_ID DRRINT state county   fips\n",
       "0    0.3   24.3  2020-05-15   65.7  0500000US21137    0.1    21    137  21137\n",
       "1    0.2   29.8  2020-05-15     58  0500000US21139      0    21    139  21139\n",
       "2    0.1   21.7  2020-05-15   52.9  0500000US21143      0    21    143  21143\n",
       "3    0.2   53.5  2020-05-15   67.1  0500000US21145    0.1    21    145  21145\n",
       "4    0.3   22.9  2020-05-15     59  0500000US21149    0.1    21    149  21149"
      ]
     },
     "execution_count": 11,
     "metadata": {},
     "output_type": "execute_result"
    }
   ],
   "source": [
    "census.head()"
   ]
  },
  {
   "cell_type": "code",
   "execution_count": 12,
   "metadata": {},
   "outputs": [],
   "source": [
    "cases=pd.read_csv(\"https://github.com/nytimes/covid-19-data/raw/master/us-counties.csv\",dtype={\"fips\":str})"
   ]
  },
  {
   "cell_type": "code",
   "execution_count": 13,
   "metadata": {},
   "outputs": [
    {
     "data": {
      "text/html": [
       "<div>\n",
       "<style scoped>\n",
       "    .dataframe tbody tr th:only-of-type {\n",
       "        vertical-align: middle;\n",
       "    }\n",
       "\n",
       "    .dataframe tbody tr th {\n",
       "        vertical-align: top;\n",
       "    }\n",
       "\n",
       "    .dataframe thead th {\n",
       "        text-align: right;\n",
       "    }\n",
       "</style>\n",
       "<table border=\"1\" class=\"dataframe\">\n",
       "  <thead>\n",
       "    <tr style=\"text-align: right;\">\n",
       "      <th></th>\n",
       "      <th>date</th>\n",
       "      <th>county</th>\n",
       "      <th>state</th>\n",
       "      <th>fips</th>\n",
       "      <th>cases</th>\n",
       "      <th>deaths</th>\n",
       "    </tr>\n",
       "  </thead>\n",
       "  <tbody>\n",
       "    <tr>\n",
       "      <th>0</th>\n",
       "      <td>2020-01-21</td>\n",
       "      <td>Snohomish</td>\n",
       "      <td>Washington</td>\n",
       "      <td>53061</td>\n",
       "      <td>1</td>\n",
       "      <td>0</td>\n",
       "    </tr>\n",
       "    <tr>\n",
       "      <th>1</th>\n",
       "      <td>2020-01-22</td>\n",
       "      <td>Snohomish</td>\n",
       "      <td>Washington</td>\n",
       "      <td>53061</td>\n",
       "      <td>1</td>\n",
       "      <td>0</td>\n",
       "    </tr>\n",
       "    <tr>\n",
       "      <th>2</th>\n",
       "      <td>2020-01-23</td>\n",
       "      <td>Snohomish</td>\n",
       "      <td>Washington</td>\n",
       "      <td>53061</td>\n",
       "      <td>1</td>\n",
       "      <td>0</td>\n",
       "    </tr>\n",
       "    <tr>\n",
       "      <th>3</th>\n",
       "      <td>2020-01-24</td>\n",
       "      <td>Cook</td>\n",
       "      <td>Illinois</td>\n",
       "      <td>17031</td>\n",
       "      <td>1</td>\n",
       "      <td>0</td>\n",
       "    </tr>\n",
       "    <tr>\n",
       "      <th>4</th>\n",
       "      <td>2020-01-24</td>\n",
       "      <td>Snohomish</td>\n",
       "      <td>Washington</td>\n",
       "      <td>53061</td>\n",
       "      <td>1</td>\n",
       "      <td>0</td>\n",
       "    </tr>\n",
       "  </tbody>\n",
       "</table>\n",
       "</div>"
      ],
      "text/plain": [
       "         date     county       state   fips  cases  deaths\n",
       "0  2020-01-21  Snohomish  Washington  53061      1       0\n",
       "1  2020-01-22  Snohomish  Washington  53061      1       0\n",
       "2  2020-01-23  Snohomish  Washington  53061      1       0\n",
       "3  2020-01-24       Cook    Illinois  17031      1       0\n",
       "4  2020-01-24  Snohomish  Washington  53061      1       0"
      ]
     },
     "execution_count": 13,
     "metadata": {},
     "output_type": "execute_result"
    }
   ],
   "source": [
    "cases.head()"
   ]
  },
  {
   "cell_type": "code",
   "execution_count": 14,
   "metadata": {},
   "outputs": [
    {
     "data": {
      "text/plain": [
       "'2020-05-14'"
      ]
     },
     "execution_count": 14,
     "metadata": {},
     "output_type": "execute_result"
    }
   ],
   "source": [
    "mostrecentdate=cases[\"date\"].max()\n",
    "mostrecentdate"
   ]
  },
  {
   "cell_type": "code",
   "execution_count": 15,
   "metadata": {},
   "outputs": [],
   "source": [
    "mostrecentcases=cases[cases[\"date\"]==mostrecentdate]"
   ]
  },
  {
   "cell_type": "code",
   "execution_count": 18,
   "metadata": {},
   "outputs": [],
   "source": [
    "df=pd.merge(mostrecentcases,census,on=\"fips\")"
   ]
  },
  {
   "cell_type": "code",
   "execution_count": 19,
   "metadata": {},
   "outputs": [],
   "source": [
    "# output dataframe to a csv\n",
    "df.to_csv('../data/covid-census.csv', index=False)"
   ]
  },
  {
   "cell_type": "code",
   "execution_count": null,
   "metadata": {},
   "outputs": [],
   "source": []
  }
 ],
 "metadata": {
  "kernelspec": {
   "display_name": "Python 3",
   "language": "python",
   "name": "python3"
  },
  "language_info": {
   "codemirror_mode": {
    "name": "ipython",
    "version": 3
   },
   "file_extension": ".py",
   "mimetype": "text/x-python",
   "name": "python",
   "nbconvert_exporter": "python",
   "pygments_lexer": "ipython3",
   "version": "3.8.1"
  }
 },
 "nbformat": 4,
 "nbformat_minor": 4
}
